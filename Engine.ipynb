{
 "cells": [
  {
   "cell_type": "markdown",
   "metadata": {},
   "source": [
    "# How Recommendations are Made"
   ]
  },
  {
   "cell_type": "markdown",
   "metadata": {},
   "source": [
    "###Pre-Engine\n",
    "+ Yummly API for 40  new/random recipes\n",
    "+ Breakdown recipes' ingredients into flavor compounds (~24 per ingredient) using prepopulated database"
   ]
  },
  {
   "cell_type": "code",
   "execution_count": null,
   "metadata": {
    "collapsed": false
   },
   "outputs": [],
   "source": [
    "Yummly API Example\n",
    "\"id\": \"Garlic-Cheese-Chicken-1041442\",\n",
    "\"recipeName\": \"Garlic Cheese Chicken\",\n",
    "\"ingredients\": [\"melted butter\",\n",
    "                \"garlic cloves\",\n",
    "                \"garlic powder\",\n",
    "                \"salt\",\n",
    "                \"corn flakes\",\n",
    "                \"shredded cheddar cheese\",\n",
    "                \"grated parmesan cheese\",\n",
    "                \"pepper\",\n",
    "                \"boneless skinless chicken breasts\"],"
   ]
  },
  {
   "cell_type": "code",
   "execution_count": null,
   "metadata": {
    "collapsed": true
   },
   "outputs": [],
   "source": [
    "Food Compound Breakdown\n",
    "'Garlic-Cheese-Chicken-1041442': [37, 79, 132, 165, 177, 243, 250, 260, \n",
    "                                  273, 295, 348, 361, 378, 393, 434, 442, \n",
    "                                  460, 519, 602, 620, 628, 632, 704, 737, \n",
    "                                  767, 778, 793, 867, 886, 957, 965, 971, \n",
    "                                  1012, 1021, 1069, 1092]"
   ]
  },
  {
   "cell_type": "markdown",
   "metadata": {},
   "source": [
    "###Engine\n",
    "+ Compare recipe flavor compounds to user's liked/disliked flavor compounds\n",
    "+ Normalize for:\n",
    "    + Number of flavor compounds in recipe\n",
    "    + Frequency of ingredients (butter, pepper, etc.)\n",
    "    + Intensity of like/dislike of flavor compounds\n",
    "+ Score for each recipe based on above comparison"
   ]
  },
  {
   "cell_type": "code",
   "execution_count": null,
   "metadata": {
    "collapsed": true
   },
   "outputs": [],
   "source": [
    "Top 10 recipes with engine scores\n",
    "('Mango-Pomegranate-Guacamole-967911', 0.0023206751054852333), \n",
    "('Sauteed-Swiss-Chard-984678', 0.0025110071546505233), \n",
    "('Flourless-Brownie-Muffins-770880', 0.0028129395218002813), \n",
    "('Simple-Guacamole-995370', 0.003872418387741506), \n",
    "('Leek_-Mushrooms-And-Tomatoes-Quiche-1021989', 0.005748945147679325), \n",
    "('Limoncello-Ice-Cream-Cake-940127', 0.00616682895163908), \n",
    "('Vegan-Buffalo-Cauliflower-With-Sweet-Potato-Noodles-_Vegan_-Gluten-Free_-1020823', 0.006724683544303797), \n",
    "('Poor-Irish-Soup-Allrecipes', 0.007497565725413826), \n",
    "('Dill-Dip-Ii-Allrecipes', 0.010594386351128235), \n",
    "('Eggplant-Rolls-with-Spicy-Tomato-Sauce-1049581', 0.012002161160852114)"
   ]
  },
  {
   "cell_type": "markdown",
   "metadata": {},
   "source": [
    "###Post-Engine\n",
    "+ Pick top scored recipe from list of 40\n",
    "+ Create confidence score to display to user\n",
    "+ Get recipe ready to be sent to front-end"
   ]
  }
 ],
 "metadata": {
  "kernelspec": {
   "display_name": "Django Shell-Plus",
   "language": "python",
   "name": "django_extensions"
  },
  "language_info": {
   "codemirror_mode": {
    "name": "ipython",
    "version": 3
   },
   "file_extension": ".py",
   "mimetype": "text/x-python",
   "name": "python",
   "nbconvert_exporter": "python",
   "pygments_lexer": "ipython3",
   "version": "3.4.2"
  }
 },
 "nbformat": 4,
 "nbformat_minor": 0
}
