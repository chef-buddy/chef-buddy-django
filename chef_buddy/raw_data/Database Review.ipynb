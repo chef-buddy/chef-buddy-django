{
 "cells": [
  {
   "cell_type": "code",
   "execution_count": 212,
   "metadata": {
    "collapsed": false
   },
   "outputs": [],
   "source": [
    "import pandas as pd\n",
    "import psycopg2\n",
    "import matplotlib.pyplot as plt\n",
    "%matplotlib inline\n",
    "\n",
    "\n",
    "def connect_production_db():\n",
    "    conn = psycopg2.connect(\"dbname='chef_buddy' user='chefbuddyadmin' host='cooper.cdhlqbkfdy0e.us-west-2.rds.amazonaws.com' password='chefbuddy123'\")\n",
    "    conn.set_session(autocommit=True)\n",
    "    return conn\n",
    "\n",
    "def connect_local_db():\n",
    "    conn = psycopg2.connect(\"dbname='chef_buddy' user='zackjcooper' host='127.0.0.1' password='password'\")\n",
    "    conn.set_session(autocommit=True)\n",
    "    return conn\n",
    "\n",
    "connection = connect_production_db()\n",
    "cur = connection.cursor()\n",
    "\n",
    "def get_recipe_fc(recipe_id):\n",
    "    df = pd.read_sql(\"SELECT * from chef_buddy_recipe where recipe_id='\" + recipe_id + \"'\" , connection)\n",
    "    return df\n",
    "\n",
    "def get_user_fc(user_id):\n",
    "    df = pd.read_sql(\"SELECT * from chef_buddy_userflavorcompound where user_id='\" + str(user_id) + \"'\" , connection)\n",
    "    return df\n",
    "def get_ingredient_fc(ingredient):\n",
    "    df = pd.read_sql(\"SELECT * from chef_buddy_ingredientflavorcompound where ingredient_id='\" + ingredient + \"'\" , connection)\n",
    "    return df.flavor_id\n",
    "\n",
    "def get_unique_ingredient_list():\n",
    "    df = pd.read_sql(\"SELECT DISTINCT ingredient_id from chef_buddy_ingredientflavorcompound;\" , connection)\n",
    "    return df.ingredient_id\n",
    "\n",
    "def ingredient_lookup(flavor_id):\n",
    "    cur.execute(\"select ARRAY (select ingredient_id from chef_buddy_ingredientflavorcompound where flavor_id = '\" +str(flavor_id)+ \"');\")\n",
    "    return cur.fetchall()\n",
    "\n",
    "def users_ingredient_score(user_id):\n",
    "    ufc_df = get_user_fc(user_id)\n",
    "    ing_dict = {}\n",
    "    \n",
    "    for count in range(len(ufc_df)):\n",
    "        ingredient_list = ingredient_lookup(ufc_df.flavor_id[count])\n",
    "        \n",
    "        for ingredient in ingredient_list[0][0]:\n",
    "            if ingredient in ing_dict.keys():\n",
    "                ing_dict[ingredient] += ufc_df.score[count]\n",
    "            else:\n",
    "                ing_dict[ingredient] = ufc_df.score[count]\n",
    "    return OrderedDict(sorted(ing_dict.items(), key=lambda t: t[1]))\n",
    "\n",
    "ing_fc_all = pd.read_sql(\"SELECT * from chef_buddy_ingredientflavorcompound\", connection)"
   ]
  },
  {
   "cell_type": "code",
   "execution_count": 200,
   "metadata": {
    "collapsed": false
   },
   "outputs": [],
   "source": [
    "recipe_df = get_recipe_fc('Thick-and-Cakey-Chocolate-Chip-Cookies-677686')\n",
    "ufc_df = get_user_fc(2)\n",
    "ing_fc_df = get_ingredient_fc('butter')"
   ]
  },
  {
   "cell_type": "code",
   "execution_count": 201,
   "metadata": {
    "collapsed": false
   },
   "outputs": [
    {
     "data": {
      "text/plain": [
       "OrderedDict([('bell pepper', -38), ('black pepper', -38), ('long pepper', -37), ('malagueta pepper', -36), ('green bell pepper', -36), ('capsicum annuum', -36), ('guinea pepper', -36), ('capsicum', -36), ('ethiopian pepper', -36), ('cayenne', -36), ('tabasco pepper', -36), ('thai pepper', -36), ('ashanti pepper', -36), ('california pepper', -36), ('pepper', -36), ('garlic', -21), ('skim milk', -17), ('filbert', -12), ('myrtle', -10), ('parsley', -10), ('dried parsley', -10), ('onion', -9), ('goat milk', -8), ('dairy', -8), ('sheep milk', -8), ('sour milk', -8), ('mint', -8), ('mace', -8), ('japanese mint', -7), ('caucas', -7), ('pimento', -7), ('roasted onion', -7), ('sage', -6), ('fennel', -6), ('eucalyptus oil', -6), ('nutmeg', -6), ('durian', -6), ('laurel', -6), ('cumin', -6), ('mint oil', -6), ('caucus', -6), ('nectarine', -6), ('eucalyptus', -5), ('currant', -5), ('naranjilla', -5), ('corn salad', -5), ('lemon balm', -5), ('nira', -5), ('anise', -5), ('camphor oil', -5), ('nobiru', -4), ('buchu', -4), ('rosemary', -4), ('seed', -4), ('safflower seed', -4), ('mastic gum', -4), ('japanese star anise', -4), ('roasted macadamia nut', -4), ('black sesame seed', -4), ('cruciferae seed', -4), ('macadamia nut', -4), ('custard apple', -4), ('roasted barley', -4), ('star anise', -4), ('buchu oil', -4), ('cajeput', -4), ('cherry', -4), ('neroli', -4), ('barley', -4), ('turmeric', -4), ('rapeseed', -4), ('chinese star anise', -4), ('kumquat', -4), ('banana passion fruit', -3), ('cinnamon', -3), ('watermelon', -3), ('prunus', -3), ('palm fruit', -3), ('carob fruit', -3), ('caja fruit', -3), ('origanum', -3), ('mastic gum oil', -3), ('cinnamon leaf', -3), ('guarana', -3), ('elderberry fruit', -3), ('krill', -3), ('parsnip fruit', -3), ('mangosteen', -3), ('citrus oil', -3), ('lime peel oil', -3), ('fruit', -3), ('camphor', -3), ('cypress', -2), ('cinnamon leaf oil', -2), ('hyacinth', -2), ('pinus sylvestris', -2), ('holy basil', -2), ('wild rice', -2), ('dill seed', -2), ('rosa centifolia', -2), ('sea buckthorn', -2), ('tea tree oil', -2), ('brassica', -2), ('squid', -2), ('vegetable oil', -2), ('pine oil', -2), ('laurel leaf oil', -2), ('cupressaceae oil', -2), ('gin', -2), ('acacia', -2), ('cupressaceae', -2), ('orange flower', -2), ('shallot', -2), ('clary sage oil', -2), ('lavender oil', -2), ('garlic oil', -2), ('sapodilla fruit', -2), ('star anise oil', -2), ('black currant bud', -2), ('piper officinarum', -2), ('myrocarpus fastigiatus', -2), ('parsnip', -2), ('laurel leaf', -2), ('neroli oil', -2), ('thymus zygis', -2), ('oatmeal', -2), ('vegetable', -2), ('brussels sprout', -2), ('spanish sage', -2), ('violet flower', -2), ('cajeput oil', -2), ('vinegar', -2), ('myrocarpus frondosus', -2), ('chinese star anise oil', -2), ('kelp', -2), ('peated malt', -2), ('chrysanthemum japonicum', -1), ('tahiti vanilla', -1), ('melaleuca smithii', -1), ('kaschmis citronella oil', -1), ('lemon flower', -1), ('olive oil', -1), ('ceylon tea cinnamon leaf', -1), ('plumcot', -1), ('luvunga scadens oil', -1), ('marjoram oil', -1), ('eryngium poterium oil', -1), ('prune', -1), ('rhododendron fauriae leaf', -1), ('wild bergamot', -1), ('cayenne linaloe', -1), ('mandarin oil', -1), ('daffodil flower', -1), ('satsuma mandarin peel oil', -1), ('rosemary oil', -1), ('choke cherry', -1), ('gardenia', -1), ('roasted filbert', -1), ('litsea cubeba fruit', -1), ('scotch spearmint', -1), ('melaleuca trichostachya oil', -1), ('salvia triloba oil', -1), ('betel', -1), ('lime juice', -1), ('satureia montana', -1), ('lemon oil', -1), ('leaf', -1), ('rhodotorula glutinis', -1), ('california laurel oil', -1), ('siberian pine needle oil', -1), ('monarda punctata', -1), ('myrrh oil', -1), ('salvia grandifiora oil', -1), ('angelica root', -1), ('bitter orange peel oil', -1), ('roasted nut', -1), ('nectandra elaiophora', -1), ('thujopsis dolabrata', -1), ('daffodil', -1), ('galanga', -1), ('phebalium nudum root oil', -1), ('thymus caespeititius', -1), ('melaleuca oil', -1), ('honey', -1), ('mentha citrata', -1), ('welsh onion', -1), ('cinnamomum oliveri leaf', -1), ('juniperus chinensis oil', -1), ('plant', -1), ('german chamomile oil', -1), ('okra', -1), ('azalea', -1), ('piper lowong', -1), ('cypress oil', -1), ('piper chaba', -1), ('curcuma', -1), ('luraceae oil', -1), ('litsea guatemalensis oil', -1), ('bourbon whiskey', -1), ('jasmine', -1), ('melaleuca viridiflora', -1), ('java citronella oil', -1), ('lantana camara oil', -1), ('cardamom oil', -1), ('caraway', -1), ('artemisia santolinifolia', -1), ('french marigold oil', -1), ('leptospermum citratum', -1), ('acacia flower oil', -1), ('satsuma mandarin peel', -1), ('chestnut flower', -1), ('petitgrain bigarade', -1), ('nutmeg oil', -1), ('coriander oil', -1), ('seed oil', -1), ('tulip', -1), ('melaleuca bracteata leaf', -1), ('fruit brandy', -1), ('cascarilla', -1), ('niaouli oil', -1), ('shellfish', -1), ('scallion', -1), ('hinoki', -1), ('mentha silvestris oil', -1), ('prawn', -1), ('sweet basil', -1), ('beech tar creosote', -1), ('psilocaulon absimile', -1), ('filipendula ulmaria flower', -1), ('galbanum oil', -1), ('mentha aquatica', -1), ('brazil rosewood', -1), ('myrtaceae oil', -1), ('buttermilk', -1), ('orange oil', -1), ('lobster', -1), ('tangerine peel oil', -1), ('angelica', -1), ('scotch spearmint oil', -1), ('cicuta virosa oil', -1), ('ocimum gratissimum', -1), ('lavender delphinensis', -1), ('jammus citronella oil', -1), ('elder flower', -1), ('east african geranium', -1), ('winter savory', -1), ('malabar cardamom oil', -1), ('helichrysum italicum', -1), ('monarda fisulosa', -1), ('almond flower', -1), ('finocchoi fennel oil', -1), ('kola nut', -1), ('doryphora sassafras leaf oil', -1), ('boldo leaf', -1), ('melaleuca paucifiora oil', -1), ('vervain', -1), ('pimenta', -1), ('petitgrain lime oil', -1), ('onion oil', -1), ('matricaria parthenium oil', -1), ('bergamot oil', -1), ('violet flower oil', -1), ('hoary basil', -1), ('ceylon tea citronella oil', -1), ('japanese peppermint oil', -1), ('violet', -1), ('nut', -1), ('tolu balsam', -1), ('bitter fennel', -1), ('east indian geranium', -1), ('echinacea', -1), ('american potato chip', -1), ('onion juice', -1), ('picea alba oil', -1), ('algerian geranium oil', -1), ('lemon juice', -1), ('florida orange juice', -1), ('baeckea citriodora', -1), ('clove oil', -1), ('calamus', -1), ('anise hyssop', -1), ('caraway seed', -1), ('wood', -1), ('dacrydium franklinii oil', -1), ('peru balsam', -1), ('jasminum grandiflorum', -1), ('artemisia', -1), ('spanish origanum', -1), ('artemisia santolinifolia oil', -1), ('artemisae oil', -1), ('thyme', -1), ('orchid', -1), ('jackfruit', -1), ('petrosimonia monandra', -1), ('green mate', -1), ('artemisia cina', -1), ('achillea micrantha oil', -1), ('hazelnut', -1), ('dill blossom', -1), ('flower', -1), ('litsea zeylanica', -1), ('litsea guatemalensis', -1), ('nemuaron humboldtii oil', -1), ('java citronella', -1), ('eucalyptus polibrac tea oil', -1), ('lovage leaf', -1), ('barosma pulchella leaf oil', -1), ('bay', -1), ('geranium oil', -1), ('parsnip root', -1), ('lavandin', -1), ('asarum europaeum root oil', -1), ('angelica root oil', -1), ('piper famechoni', -1), ('cymbopogon sennaarensis', -1), ('cinnamomum camphora', -1), ('elettaria caradmomum oil', -1), ('dill', -1), ('sassafras root oil', -1), ('highbush blueberry', -1), ('juniperus phoenicea oil', -1), ('spirea ulmaria oil', -1), ('pinus excelsa', -1), ('orange juice', -1), ('narcissus', -1), ('artemisia maritime oil', -1), ('angelica oil', -1), ('sandalwood', -1), ('pinaceae', -1), ('calytrix tetragona', -1), ('roasted hazelnut', -1), ('pinus sylvestris oil', -1), ('marjoram', -1), ('eucalyptus citridora', -1), ('japanese calamus', -1), ('lilac', -1), ('pistachio', -1), ('eucalyptus globulus oil', -1), ('roasted chicory root', -1), ('key lime leaf', -1), ('sesame oil', -1), ('calabash nutmeg', -1), ('asarum canadense root oil', -1), ('dalbergia sissoo', -1), ('animal', -1), ('eucalyptus citriodora oil', -1), ('leaf oil', -1), ('american sassafras oil', -1), ('thymus mastichina', -1), ('raw cabbage', 0), ('chive', 0), ('mandarin peel', 0), ('spike', 0), ('rose', 0), ('celery seed', 0), ('lovage root', 0), ('pear', 0), ('french peppermint', 0), ('grape vine', 0), ('clove', 0), ('thymus', 0), ('lemon peel oil', 0), ('american peppermint', 0), ('oyster', 0), ('petitgrain', 0), ('rice bran', 0), ('peppermint oil', 0), ('american peppermint oil', 0), ('paraguay petitgrain', 0), ('lemon peel', 0), ('water apple', 0), ('reunion geranium', 0), ('ylangylang', 0), ('japanese peppermint', 0), ('palmarosa oil', 0), ('peppermint', 0), ('roman chamomile oil', 0), ('sassafras', 0), ('tuberose', 0), ('blenheim apricot', 0), ('mandarin peel oil', 0), ('watercress', 0), ('cashew', 0), ('hog plum', 0), ('citronella', 0), ('rose apple', 0), ('apple juice', 0), ('bartlett pear', 0), ('monkey orange', 1), ('pinus sabiniana terpentine', 1), ('grapefruit peel', 1), ('furcraea gigantean flower oil', 1), ('potato chip', 1), ('ginger grass', 1), ('lavender', 1), ('japanese plum', 1), ('myrrh', 1), ('nepeta japonica', 1), ('lard', 1), ('sweet grass oil', 1), ('rutabaga', 1), ('palmarosa', 1), ('helichrysum angustifolium', 1), ('ocotea usambarensis oil', 1), ('pinus sabiniana', 1), ('grapefruit peel oil', 1), ('lemongrass oil', 1), ('sweet potato', 1), ('russian peppermint oil', 1), ('orthodon citraliferum', 1), ('malay apple', 1), ('achasma walang', 1), ('mexican linaloe', 1), ('kohlrabi', 1), ('pelargonium tomentosum', 1), ('cabbage', 1), ('tobacco', 1), ('zanthoxylum rhetsa', 1), ('callitris', 1), ('micromeria abyssinica', 1), ('orange peel oil', 1), ('chicory root', 1), ('andropogon gragrans', 1), ('mentha timija', 1), ('andropogon intermedius', 1), ('pinus jeffreyi terpentine', 1), ('turkmenistan sunguli oil', 1), ('citronella grass', 1), ('eryngium facidum', 1), ('red sage', 1), ('pine turpentine', 1), ('california orange peel', 1), ('bergamot', 1), ('carpinus betulus', 1), ('barosma pulchella oil', 1), ('corn mint oil', 1), ('pelargonium capitaux', 1), ('orange peel', 1), ('popcorn', 1), ('chamomile oil', 1), ('violet leaf', 1), ('prickly pear', 1), ('beef broth', 1), ('tarragon', 1), ('neroli bigarade', 1), ('kiwi', 1), ('roasted almond', 1), ('hogweed', 1), ('chicken broth', 1), ('corn tortilla', 1), ('crab', 2), ('artichoke', 2), ('blueberry', 2), ('trassi', 2), ('roman chamomile', 2), ('pumpkin', 2), ('almond', 2), ('yogurt', 2), ('eucalyptus globulus', 2), ('carnation', 2), ('tangerine', 2), ('babaco', 2), ('robinia pseudoacacia', 2), ('boiled crab', 2), ('wood apple', 2), ('chokeberry', 2), ('carob', 2), ('sour cherry', 2), ('ceylon citronella', 2), ('orange', 2), ('jonquil', 2), ('satsuma', 2), ('clary sage', 2), ('lemon', 2), ('citrus', 2), ('bitter orange', 2), ('israeli orange', 2), ('pork liver', 2), ('walnut', 2), ('champaca', 2), ('andropogon jwarancusa', 2), ('corn mint', 2), ('bulgarian rose', 2), ('artemisia herba alba', 2), ('zucchini', 2), ('lovage', 2), ('cayenne bois de rose', 2), ('cream', 2), ('juniper berry', 2), ('raw asparagus', 2), ('robinia pseudoacacia oil', 2), ('california orange', 2), ('marula', 3), ('fermented tea leaf oil', 3), ('tobacco flower', 3), ('houttuynia cordata oil', 3), ('caprifoliaceae', 3), ('crownberry', 3), ('gastrochilus pandurata oil', 3), ('bog blueberry', 3), ('bael', 3), ('nigra oil', 3), ('alpinia malaccensis', 3), ('litsea cubeba', 3), ('raw soybean oil', 3), ('crowberry', 3), ('cardamom', 3), ('morus bombycis oil', 3), ('hoary basil leaf oil', 3), ('eremocitrus glauca', 3), ('schizandra nigra oil', 3), ('brazilian sassafras oil', 3), ('petitgrain lemon', 3), ('black tea oil', 3), ('schizandra oil', 3), ('wild raspberry', 3), ('pear brandy', 3), ('boronia ledifolia oil', 3), ('cassia oil', 3), ('toasted oat', 3), ('mandarin', 3), ('maple syrup', 3), ('cymbopogon javanensis', 3), ('litsea odorifera', 3), ('raspberry juice', 3), ('eucalyptus macarthuri oil', 3), ('mutton liver', 3), ('black raspberry', 3), ('cereal', 3), ('cryptomeria japonica', 3), ('celery', 3), ('litchi', 3), ('vietnamese black tea', 3), ('radish oil', 3), ('alpinia malaccensis oil', 3), ('cowberry', 3), ('jaborandi leaf oil', 3), ('lamb liver', 3), ('lime', 3), ('wild strawberry', 3), ('citrus peel oil', 3), ('myrtleberry', 3), ('lettuce', 3), ('geranium', 3), ('lingonberry', 3), ('cane molasses', 3), ('fagara zanthoxyloides oil', 3), ('huckleberry', 3), ('citrus peel', 3), ('armenian muscat grape oil', 3), ('feijoa', 3), ('rancid coconut oil', 3), ('rosaceae', 3), ('japanese whiskey', 3), ('red currant', 3), ('ruta pinnata leaf oil', 3), ('phellodendron amurense', 3), ('chamaecyparis pisifera', 3), ('umbelliferae', 3), ('petitgrain lime', 3), ('pennyroyal oil', 3), ('saxifragaceae', 3), ('boronia ledifolia leaf', 3), ('pennyroyal', 3), ('mustard', 3), ('eucalyptus dives', 3), ('loganberry', 3), ('broccoli', 3), ('rye ergot', 3), ('black chokecherry', 3), ('scotch whiskey', 3), ('ceylon cinnamon', 3), ('citrus limetta oil', 3), ('artemisia arborescens', 3), ('kaffir lime', 3), ('basil', 3), ('petitgrain lemon oil', 3), ('italian lime', 3), ('beet root', 3), ('ruta chalepensis oil', 3), ('thea chinensis oil', 3), ('plum wine', 3), ('jonquil oil', 3), ('bilberry wine', 3), ('black chokeberry', 3), ('bitter almond', 3), ('litsea odorifera oil', 3), ('texas sage', 3), ('wild berry', 3), ('berry', 3), ('bulgarian clary sage', 4), ('french fried potato', 4), ('fenugreek', 4), ('pea', 4), ('vachellia farnesiana', 4), ('brazil nut', 4), ('butter oil', 4), ('black currant', 4), ('mussel', 4), ('raw pea', 4), ('scotch', 4), ('oat', 4), ('raw potato', 4), ('taiwan citronella', 4), ('bulgarian rose oil', 4), ('french lavender', 4), ('southern pea', 4), ('sauerkraut', 4), ('pawpaw', 4), ('white bread', 4), ('potato', 4), ('eucalyptus cinereea', 4), ('bulgarian clary sage oil', 4), ('oak musk', 4), ('eucalyptus macarthurii', 4), ('chamomile', 4), ('mashed potato', 4), ('eucalyptus hemilampra', 4), ('mastic gum leaf oil', 4), ('eucalyptus maideni', 4), ('rabbiteye blueberry', 5), ('licorice', 5), ('peach', 5), ('quince', 5), ('mexican lime', 5), ('petitgrain bergamot', 5), ('dwarf quince', 5), ('soursop', 5), ('citrus juice', 5), ('unprocessed rice', 5), ('bread', 5), ('butterfat', 6), ('mastic gum fruit oil', 6), ('truffle', 6), ('cloudberry', 6), ('pineapple', 6), ('cuttlefish', 6), ('turnip', 6), ('plum brandy', 6), ('cassia', 6), ('green tea oil', 6), ('violet root', 6), ('brandy', 6), ('kale', 6), ('chinese cabbage', 6), ('palm oil', 6), ('milk fat', 6), ('crayfish', 6), ('spearmint', 6), ('rue oil', 6), ('roasted sesame seed', 7), ('mountain papaya', 7), ('spearmint oil', 7), ('egg', 7), ('rubus arcticus', 7), ('carrot', 7), ('tea oil', 7), ('coriander', 7), ('american cranberry', 7), ('sesame seed', 8), ('toasted sesame seed', 8), ('crisp bread', 8), ('bilberry', 8), ('olive', 8), ('wheaten bread', 8), ('cucumber', 8), ('cantaloupe', 8), ('lemongrass', 8), ('muskmelon', 8), ('chinese quince', 8), ('melon', 8), ('whiskey', 9), ('kumquat peel oil', 9), ('roasted pecan', 9), ('fish oil', 9), ('palm', 9), ('pecan', 9), ('orris', 9), ('apple brandy', 9), ('rue', 9), ('caviar', 10), ('dried fig', 10), ('endive', 10), ('papaya', 10), ('fig', 10), ('radish', 10), ('avocado', 10), ('sturgeon caviar', 10), ('sake', 10), ('starfruit', 10), ('peanut oil', 10), ('soy sauce', 10), ('raw radish', 10), ('malt whiskey', 11), ('yellow passion fruit', 11), ('wort', 11), ('raw peanut', 11), ('peanut', 11), ('scallop', 11), ('baked potato', 11), ('cauliflower', 11), ('rye bread', 11), ('apricot', 11), ('grapefruit juice', 12), ('malt', 12), ('hop oil', 12), ('roasted turkey', 12), ('raisin', 12), ('coffee', 12), ('hop', 12), ('roasted malt', 12), ('turkey', 12), ('raw turkey', 12), ('cherimoya', 12), ('elderberry', 12), ('tamarind', 12), ('frankfurter', 13), ('meat', 13), ('katsuobushi', 13), ('roasted meat', 13), ('smoked sausage', 13), ('boiled meat', 13), ('veal', 13), ('seal', 13), ('guineafowl', 13), ('leek', 13), ('red meat', 13), ('ewe', 13), ('whale', 13), ('raw leek', 13), ('blackberry', 13), ('wheat bread', 14), ('ham', 14), ('cider', 14), ('cape gooseberry', 14), ('clam', 14), ('cured ham', 14), ('peanut butter', 15), ('loquat', 15), ('roasted lamb', 15), ('european cranberry', 15), ('lamb', 15), ('roasted peanut', 15), ('raw lamb', 15), ('cranberry', 15), ('matsutake', 16), ('porcini', 16), ('smoked summer sausage', 16), ('enokidake', 16), ('mushroom', 16), ('strawberry jam', 16), ('shiitake', 16), ('shrimp', 17), ('roasted shrimp', 17), ('asparagus', 17), ('roasted cocoa', 17), ('mutton', 17), ('mantis shrimp', 17), ('fermented shrimp', 17), ('cocoa', 17), ('herring', 18), ('mung bean', 18), ('catfish', 18), ('ginger', 18), ('whitefish', 18), ('french bean', 18), ('mackerel', 18), ('red kidney bean', 18), ('sea bass', 18), ('horse mackerel', 18), ('pinto bean', 18), ('kidney bean', 18), ('pike', 18), ('sweetfish', 18), ('dried kidney bean', 18), ('black seabream', 18), ('cod', 18), ('grapefruit', 18), ('raw fish', 18), ('snap bean', 18), ('bean', 18), ('red bean', 18), ('navy bean', 18), ('fish', 18), ('haddock', 18), ('lima bean', 18), ('globefish', 18), ('black bean', 18), ('pilchard', 18), ('eel', 18), ('plum', 18), ('rice', 19), ('brown rice', 19), ('tuna', 20), ('smoked salmon', 20), ('keta salmon', 20), ('raw fatty fish', 20), ('salmon', 20), ('fatty fish', 20), ('smoked fatty fish', 20), ('mate', 21), ('raw bean', 21), ('mango', 21), ('roasted mate', 21), ('corn oil', 23), ('boiled mutton', 23), ('gruyere cheese', 23), ('smoked herring', 24), ('buckwheat', 24), ('vanilla', 24), ('roasted beef', 25), ('raw lean fish', 25), ('corn', 25), ('lean fish', 25), ('cilantro', 26), ('beer', 26), ('raspberry', 26), ('fried beef', 26), ('beef', 26), ('milk', 26), ('raw beef', 26), ('rooibus tea', 27), ('port wine', 27), ('guava', 27), ('champagne wine', 27), ('black tea', 27), ('rum', 27), ('botrytized wine', 27), ('mozzarella cheese', 27), ('wine', 27), ('boiled beef', 27), ('passion fruit', 27), ('cognac', 28), ('jamaican rum', 28), ('soybean', 28), ('fried chicken', 28), ('sparkling wine', 28), ('roquefort cheese', 29), ('tilsit cheese', 29), ('cottage cheese', 29), ('feta cheese', 29), ('banana', 29), ('roasted pork', 29), ('cheese', 29), ('romano cheese', 29), ('goat cheese', 29), ('emmental cheese', 29), ('domiati cheese', 29), ('cream cheese', 29), ('sheep cheese', 29), ('munster cheese', 29), ('limburger cheese', 29), ('grilled pork', 29), ('kola tea', 30), ('pork sausage', 30), ('tea', 30), ('rose wine', 30), ('raw chicken', 30), ('pouching tea', 30), ('ceylon tea', 30), ('brewed tea', 30), ('red wine', 30), ('bacon', 30), ('russian cheese', 30), ('uncured pork', 30), ('raw pork', 30), ('fermented russian black tea', 30), ('cabernet sauvignon wine', 30), ('fried pork', 30), ('jasmine tea', 30), ('pork', 30), ('boiled chicken', 30), ('uncured smoked pork', 30), ('dried green tea', 30), ('fried cured pork', 30), ('smoked pork', 30), ('seychelles tea', 30), ('chicken', 30), ('dried black tea', 30), ('roasted chicken', 31), ('boiled pork', 31), ('uncured boiled pork', 31), ('grilled beef', 31), ('tomato', 31), ('smoked fish', 32), ('sherry', 32), ('cheddar cheese', 32), ('bantu beer', 32), ('cooked apple', 33), ('roasted green tea', 33), ('apple', 33), ('fermented tea', 33), ('green tea', 33), ('smoked pork belly', 33), ('parmesan cheese', 34), ('swiss cheese', 34), ('butter', 34), ('comte cheese', 35), ('provolone cheese', 35), ('camembert cheese', 35), ('strawberry', 37), ('rhubarb', 39), ('blue cheese', 39), ('cured pork', 41), ('white wine', 42), ('sauvignon blanc grape', 44), ('grape', 44), ('cabernet sauvignon grape', 44), ('muscat grape', 44), ('sauvignon grape', 44), ('muscadine grape', 44), ('concord grape', 44), ('roasted coconut', 55), ('coconut', 57), ('coconut oil', 58)])"
      ]
     },
     "execution_count": 201,
     "metadata": {},
     "output_type": "execute_result"
    }
   ],
   "source": [
    "user_ingr = users_ingredient_score(2)\n",
    "user_ingr"
   ]
  },
  {
   "cell_type": "code",
   "execution_count": 214,
   "metadata": {
    "collapsed": false
   },
   "outputs": [],
   "source": [
    "ufc_df = set(ufc_df)\n",
    "    \n",
    "for ingredient in get_unique_ingredient_list():\n",
    "    ingr_fc_list = set(get_ingredient_fc(ingredient))\n",
    "    in_common = set.intersection(ufc_df, ingr_fc_list)\n",
    "    if len(in_common) == len(ingr_fc_list):\n",
    "        print(ingredient)"
   ]
  },
  {
   "cell_type": "code",
   "execution_count": null,
   "metadata": {
    "collapsed": false
   },
   "outputs": [],
   "source": []
  },
  {
   "cell_type": "code",
   "execution_count": null,
   "metadata": {
    "collapsed": false
   },
   "outputs": [],
   "source": []
  },
  {
   "cell_type": "code",
   "execution_count": null,
   "metadata": {
    "collapsed": false
   },
   "outputs": [],
   "source": []
  },
  {
   "cell_type": "code",
   "execution_count": null,
   "metadata": {
    "collapsed": false
   },
   "outputs": [],
   "source": []
  },
  {
   "cell_type": "code",
   "execution_count": null,
   "metadata": {
    "collapsed": false
   },
   "outputs": [],
   "source": []
  },
  {
   "cell_type": "code",
   "execution_count": null,
   "metadata": {
    "collapsed": true
   },
   "outputs": [],
   "source": []
  }
 ],
 "metadata": {
  "kernelspec": {
   "display_name": "Python 3",
   "language": "python",
   "name": "python3"
  },
  "language_info": {
   "codemirror_mode": {
    "name": "ipython",
    "version": 3
   },
   "file_extension": ".py",
   "mimetype": "text/x-python",
   "name": "python",
   "nbconvert_exporter": "python",
   "pygments_lexer": "ipython3",
   "version": "3.4.2"
  }
 },
 "nbformat": 4,
 "nbformat_minor": 0
}
