{
 "cells": [
  {
   "cell_type": "code",
   "execution_count": 54,
   "metadata": {
    "collapsed": false
   },
   "outputs": [],
   "source": [
    "import matplotlib.pyplot as plt\n",
    "from collections import OrderedDict\n",
    "%matplotlib inline\n",
    "\n",
    "\n",
    "def users_ingredient_score(user_id):\n",
    "    ing_dict = {}    \n",
    "    for fc in UserFlavorCompound.objects.filter(user_id=user_id):\n",
    "        ingredient_list = IngredientFlavorCompound.objects.filter(flavor_id=fc.id)\n",
    "        \n",
    "        for ingredient in ingredient_list:\n",
    "            if ingredient.ingredient_id in ing_dict.keys():\n",
    "                ing_dict[ingredient.ingredient_id] += fc.score\n",
    "            else:\n",
    "                ing_dict[ingredient.ingredient_id] = fc.score\n",
    "    return OrderedDict(sorted(ing_dict.items(), key=lambda t: t[1]))\n",
    "\n",
    "def perfect_ingr(user_id):\n",
    "    fc_list = set(UserFlavorCompound.objects.filter(user_id=user_id, score__gt=0).values_list('flavor_id', flat=True))\n",
    "    unique_ingr_list = IngredientFlavorCompound.objects.distinct().values_list('ingredient_id', flat=True)\n",
    "    full_hit_list = []\n",
    "    \n",
    "    for ingredient in unique_ingr_list:\n",
    "        ing_fc_list = set(IngredientFlavorCompound.objects.filter(ingredient_id=ingredient).values_list('flavor_id', flat=True))\n",
    "        match = set.intersection(fc_list, ing_fc_list)\n",
    "        hit_percent = len(match) / len(ing_fc_list)\n",
    "        full_hit_list.append((ingredient, hit_percent))\n",
    "    return sorted(full_hit_list, key=lambda x: x[1], reverse=True)"
   ]
  },
  {
   "cell_type": "code",
   "execution_count": null,
   "metadata": {
    "collapsed": false
   },
   "outputs": [],
   "source": [
    "perfect_ingr(2)"
   ]
  },
  {
   "cell_type": "code",
   "execution_count": null,
   "metadata": {
    "collapsed": false
   },
   "outputs": [],
   "source": []
  },
  {
   "cell_type": "code",
   "execution_count": null,
   "metadata": {
    "collapsed": true
   },
   "outputs": [],
   "source": []
  }
 ],
 "metadata": {
  "kernelspec": {
   "display_name": "Django Shell-Plus",
   "language": "python",
   "name": "django_extensions"
  },
  "language_info": {
   "codemirror_mode": {
    "name": "ipython",
    "version": 3
   },
   "file_extension": ".py",
   "mimetype": "text/x-python",
   "name": "python",
   "nbconvert_exporter": "python",
   "pygments_lexer": "ipython3",
   "version": "3.4.2"
  }
 },
 "nbformat": 4,
 "nbformat_minor": 0
}
