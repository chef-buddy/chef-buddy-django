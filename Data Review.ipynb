{
 "cells": [
  {
   "cell_type": "code",
   "execution_count": 110,
   "metadata": {
    "collapsed": false
   },
   "outputs": [],
   "source": [
    "import matplotlib.pyplot as plt\n",
    "from collections import OrderedDict, defaultdict\n",
    "import random\n",
    "import requests\n",
    "%matplotlib inline\n",
    "\n",
    "\n",
    "def one_user_ing_score(user_id):\n",
    "    ing_dict = defaultdict(int)\n",
    "    for fc in UserFlavorCompound.objects.filter(user_id=user_id):\n",
    "        ingredient_list = IngredientFlavorCompound.objects.filter(flavor_id=fc.id)\n",
    "        for ingredient in ingredient_list:\n",
    "            ing_dict[ingredient.ingredient_id] += fc.score\n",
    "    ordered_list = list(OrderedDict(sorted(ing_dict.items(), key=lambda t: t[1])).items())\n",
    "    ordered_list.reverse()\n",
    "    return OrderedDict(ordered_list)\n",
    "\n",
    "\n",
    "def all_users_ing_score():\n",
    "    ing_dict = defaultdict(int)\n",
    "    for fc in UserFlavorCompound.objects.all():\n",
    "        ingredient_list = IngredientFlavorCompound.objects.filter(flavor_id=fc.id)\n",
    "        for ingredient in ingredient_list:\n",
    "            ing_dict[ingredient.ingredient_id] += fc.score\n",
    "    ordered_list = list(OrderedDict(sorted(ing_dict.items(), key=lambda t: t[1])).items())\n",
    "    ordered_list.reverse()\n",
    "    return ordered_list\n",
    "\n",
    "\n",
    "def perfect_ingr(user_id):\n",
    "    fc_list = set(UserFlavorCompound.objects.filter(user_id=user_id, score__gt=0).values_list('flavor_id', flat=True))\n",
    "    unique_ingr_list = IngredientFlavorCompound.objects.distinct().values_list('ingredient_id', flat=True)\n",
    "    full_hit_list = []\n",
    "    \n",
    "    for ingredient in unique_ingr_list:\n",
    "        ing_fc_list = set(IngredientFlavorCompound.objects.filter(ingredient_id=ingredient).values_list('flavor_id', flat=True))\n",
    "        match = set.intersection(fc_list, ing_fc_list)\n",
    "        hit_percent = round((len(match) / len(ing_fc_list)), 3)\n",
    "        if hit_percent >= .01:\n",
    "            full_hit_list.append((ingredient, hit_percent))\n",
    "    return sorted(full_hit_list, key=lambda x: x[1], reverse=True)"
   ]
  },
  {
   "cell_type": "code",
   "execution_count": 109,
   "metadata": {
    "collapsed": false
   },
   "outputs": [
    {
     "data": {
      "text/plain": [
       "[('white wine', 423),\n",
       " ('cognac', 383),\n",
       " ('cooked apple', 372),\n",
       " ('apple', 372),\n",
       " ('coffee', 363),\n",
       " ('beer', 349),\n",
       " ('sherry', 338),\n",
       " ('red wine', 329),\n",
       " ('cabernet sauvignon wine', 329),\n",
       " ('cocoa', 328)]"
      ]
     },
     "execution_count": 109,
     "metadata": {},
     "output_type": "execute_result"
    }
   ],
   "source": [
    "all_ratings = all_users_ing_score()\n",
    "all_ratings[:10]"
   ]
  },
  {
   "cell_type": "code",
   "execution_count": null,
   "metadata": {
    "collapsed": false
   },
   "outputs": [],
   "source": []
  },
  {
   "cell_type": "code",
   "execution_count": null,
   "metadata": {
    "collapsed": false
   },
   "outputs": [],
   "source": []
  },
  {
   "cell_type": "code",
   "execution_count": null,
   "metadata": {
    "collapsed": true
   },
   "outputs": [],
   "source": []
  },
  {
   "cell_type": "code",
   "execution_count": null,
   "metadata": {
    "collapsed": true
   },
   "outputs": [],
   "source": []
  }
 ],
 "metadata": {
  "kernelspec": {
   "display_name": "Django Shell-Plus",
   "language": "python",
   "name": "django_extensions"
  },
  "language_info": {
   "codemirror_mode": {
    "name": "ipython",
    "version": 3
   },
   "file_extension": ".py",
   "mimetype": "text/x-python",
   "name": "python",
   "nbconvert_exporter": "python",
   "pygments_lexer": "ipython3",
   "version": "3.4.2"
  }
 },
 "nbformat": 4,
 "nbformat_minor": 0
}
